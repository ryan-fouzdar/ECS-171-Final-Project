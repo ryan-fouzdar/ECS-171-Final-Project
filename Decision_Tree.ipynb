{
  "nbformat": 4,
  "nbformat_minor": 0,
  "metadata": {
    "colab": {
      "provenance": []
    },
    "kernelspec": {
      "name": "python3",
      "display_name": "Python 3"
    },
    "language_info": {
      "name": "python"
    }
  },
  "cells": [
    {
      "cell_type": "code",
      "execution_count": 2,
      "metadata": {
        "colab": {
          "base_uri": "https://localhost:8080/"
        },
        "id": "dPe9JSkIEPxb",
        "outputId": "7e29f4b5-7839-42da-ab1d-c26955cf1aa8"
      },
      "outputs": [
        {
          "output_type": "stream",
          "name": "stdout",
          "text": [
            "Decision Tree Classifier Model Accuracy: 0.9831460674157303\n",
            "[0.09261533 0.35370538 0.0517244  0.0906021  0.12535855 0.18179\n",
            " 0.10420425]\n"
          ]
        }
      ],
      "source": [
        "from sklearn.model_selection import train_test_split\n",
        "from sklearn.tree import DecisionTreeClassifier\n",
        "from sklearn.metrics import accuracy_score, classification_report\n",
        "import pandas as pd\n",
        "from sklearn.model_selection import GridSearchCV\n",
        "\n",
        "data = pd.read_csv('/content/drive/MyDrive/Spring_2024/MachineLearning_ECS171/Diabetes.csv') # replace file path on your machine\n",
        "\n",
        "X = data[[\"Pregnancies\", \"Glucose\", \"BloodPressure\", \"SkinThickness\", \"Insulin\", \"BMI\", \"Age\"]]\n",
        "y = data[\"Outcome\"]\n",
        "\n",
        "X_train, X_test, y_train, y_test = train_test_split(X, y, test_size=0.25, random_state=42)\n",
        "\n",
        "dtc = DecisionTreeClassifier()\n",
        "dtc.fit(X_train, y_train)\n",
        "\n",
        "y_pred = dtc.predict(X_test)\n",
        "\n",
        "accuracy = accuracy_score(y_test,y_pred)\n",
        "print(\"Decision Tree Classifier Model Accuracy:\", accuracy)\n",
        "\n",
        "feat_import = dtc.feature_importances_\n",
        "\n",
        "print(feat_import)\n"
      ]
    }
  ]
}