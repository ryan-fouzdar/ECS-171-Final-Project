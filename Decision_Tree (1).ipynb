{
  "nbformat": 4,
  "nbformat_minor": 0,
  "metadata": {
    "colab": {
      "provenance": []
    },
    "kernelspec": {
      "name": "python3",
      "display_name": "Python 3"
    },
    "language_info": {
      "name": "python"
    }
  },
  "cells": [
    {
      "cell_type": "code",
      "execution_count": null,
      "metadata": {
        "colab": {
          "base_uri": "https://localhost:8080/"
        },
        "id": "dPe9JSkIEPxb",
        "outputId": "9d612a54-498d-426b-c2f4-eb44ae5666cf"
      },
      "outputs": [
        {
          "output_type": "stream",
          "name": "stdout",
          "text": [
            "Decision Tree Classifier Model Accuracy: 0.9719101123595506\n",
            "User Based Prediction 1\n"
          ]
        },
        {
          "output_type": "stream",
          "name": "stderr",
          "text": [
            "/usr/local/lib/python3.10/dist-packages/sklearn/base.py:439: UserWarning: X does not have valid feature names, but DecisionTreeClassifier was fitted with feature names\n",
            "  warnings.warn(\n"
          ]
        }
      ],
      "source": [
        "from sklearn.model_selection import train_test_split\n",
        "from sklearn.tree import DecisionTreeClassifier\n",
        "from sklearn.metrics import accuracy_score, classification_report\n",
        "import pandas as pd\n",
        "from sklearn.model_selection import GridSearchCV\n",
        "import numpy as np\n",
        "\n",
        "data = pd.read_csv('/content/drive/MyDrive/Spring_2024/MachineLearning_ECS171/Diabetes.csv') # replace file path on your machine\n",
        "\n",
        "X = data[[\"Pregnancies\", \"Glucose\", \"BloodPressure\", \"SkinThickness\", \"Insulin\",\"BMI\",\"DiabetesPedigreeFunction\", \"Age\"]]\n",
        "y = data[\"Outcome\"]\n",
        "\n",
        "X_train, X_test, y_train, y_test = train_test_split(X, y, test_size=0.25, random_state=42)\n",
        "\n",
        "dtc = DecisionTreeClassifier()\n",
        "dtc.fit(X_train, y_train)\n",
        "\n",
        "y_pred = dtc.predict(X_test)\n",
        "\n",
        "accuracy = accuracy_score(y_test,y_pred)\n",
        "print(\"Decision Tree Classifier Model Accuracy:\", accuracy)\n",
        "\n",
        "num_pregnancies = 2\n",
        "glucose = 134\n",
        "blood_pressure = 90\n",
        "skin_thickness = 232\n",
        "insulin = 110\n",
        "bmi = 34.9\n",
        "diabetes_pedigree = .678\n",
        "age = 46\n",
        "\n",
        "user_input = [num_pregnancies, glucose, blood_pressure, skin_thickness, insulin, bmi, diabetes_pedigree, age]\n",
        "user_input_s = np.array(user_input).reshape(1,-1)\n",
        "user_prediction = dtc.predict(user_input_s)\n",
        "\n",
        "print(f\"User Based Prediction {user_prediction[0]}\")\n",
        "\n",
        "# feat_import = dtc.feature_importances_\n",
        "\n",
        "# print(feat_import)\n"
      ]
    }
  ]
}